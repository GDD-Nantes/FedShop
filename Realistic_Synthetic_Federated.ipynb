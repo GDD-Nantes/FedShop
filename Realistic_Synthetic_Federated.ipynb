{
  "nbformat": 4,
  "nbformat_minor": 0,
  "metadata": {
    "colab": {
      "private_outputs": true,
      "provenance": [],
      "authorship_tag": "ABX9TyN6KOsJM2sGmmbUKtR0NIMM",
      "include_colab_link": true
    },
    "kernelspec": {
      "name": "python3",
      "display_name": "Python 3"
    },
    "language_info": {
      "name": "python"
    }
  },
  "cells": [
    {
      "cell_type": "markdown",
      "metadata": {
        "id": "view-in-github",
        "colab_type": "text"
      },
      "source": [
        "<a href=\"https://colab.research.google.com/github/mhoangvslev/RSFB/blob/main/Realistic_Synthetic_Federated.ipynb\" target=\"_parent\"><img src=\"https://colab.research.google.com/assets/colab-badge.svg\" alt=\"Open In Colab\"/></a>"
      ]
    },
    {
      "cell_type": "code",
      "source": [
        "!gdown --id 1jA4vXeLe5SDEzlxjR4T4YQgGbzX34kaN -O metrics.csv"
      ],
      "metadata": {
        "id": "ilFYLdwAgekO"
      },
      "execution_count": null,
      "outputs": []
    },
    {
      "cell_type": "code",
      "source": [
        "import numpy as np\n",
        "import seaborn as sns\n",
        "import pandas as pd\n",
        "\n",
        "\n",
        "df = pd.read_csv(\"metrics.csv\")\n",
        "df"
      ],
      "metadata": {
        "id": "Sh_YYzGEC1xL"
      },
      "execution_count": null,
      "outputs": []
    },
    {
      "cell_type": "code",
      "source": [
        "import matplotlib.pyplot as plt \n",
        "import seaborn as sns \n",
        "\n",
        "\n",
        "g = sns.lineplot(data=df, x=\"batch\", y=\"relevant_sources_selectivity\", marker=\"o\", style=\"query\", hue=\"query\")\n",
        "g.set_xticks(df[\"batch\"].unique())\n",
        "plt.legend(labels=df[\"query\"].sort_values().unique(), loc = 2, bbox_to_anchor = (1,1))\n",
        "plt.show()"
      ],
      "metadata": {
        "id": "-w6hhuWFgo98"
      },
      "execution_count": null,
      "outputs": []
    }
  ]
}